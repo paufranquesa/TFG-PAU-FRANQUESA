{
 "cells": [
  {
   "cell_type": "code",
   "execution_count": null,
   "id": "2f6443e2",
   "metadata": {},
   "outputs": [],
   "source": [
    "import numpy as np\n",
    "import pandas as pd \n",
    "import os\n",
    "import matplotlib.pyplot as plt\n",
    "import seaborn as sns\n",
    "import sklearn"
   ]
  },
  {
   "cell_type": "code",
   "execution_count": null,
   "id": "c5d65f13",
   "metadata": {},
   "outputs": [],
   "source": [
    "persones=pd.read_csv('Accident_people_2021_2022.csv')\n",
    "persones.info()\n"
   ]
  },
  {
   "cell_type": "code",
   "execution_count": null,
   "id": "e3e67f05",
   "metadata": {},
   "outputs": [],
   "source": [
    "# Supongamos que ya tienes el DataFrame 'variables' y has creado la columna 'DiaSemana' como se indicó anteriormente\n",
    "\n",
    "# Crear un DataFrame de ejemplo con una columna de fechas\n",
    "data = {'FechaAccidente': ['2022-01-02', '2022-01-03', '2022-01-04', '2022-01-05', '2022-01-06']}\n",
    "df = pd.DataFrame(data)\n",
    "\n",
    "# Convertir la columna de fechas a tipo datetime\n",
    "df['FechaAccidente'] = pd.to_datetime(df['FechaAccidente'])\n",
    "\n",
    "# Extraer el día de la semana y mapearlo a nombres de días\n",
    "df['DiaSemana'] = df['FechaAccidente'].dt.day_name()\n",
    "\n",
    "# Ahora, puedes agregar la columna 'DiaSemana' al DataFrame 'variables'\n",
    "variables['DiaSemana'] = df['DiaSemana']\n"
   ]
  }
 ],
 "metadata": {
  "kernelspec": {
   "display_name": "Python 3 (ipykernel)",
   "language": "python",
   "name": "python3"
  },
  "language_info": {
   "codemirror_mode": {
    "name": "ipython",
    "version": 3
   },
   "file_extension": ".py",
   "mimetype": "text/x-python",
   "name": "python",
   "nbconvert_exporter": "python",
   "pygments_lexer": "ipython3",
   "version": "3.11.4"
  }
 },
 "nbformat": 4,
 "nbformat_minor": 5
}
