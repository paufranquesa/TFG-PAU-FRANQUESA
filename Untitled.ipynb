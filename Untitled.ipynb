{
 "cells": [
  {
   "cell_type": "code",
   "execution_count": 1,
   "id": "a4f73f7e",
   "metadata": {},
   "outputs": [
    {
     "name": "stdout",
     "output_type": "stream",
     "text": [
      "gilipollas\n"
     ]
    }
   ],
   "source": [
    "print('gilipollas')"
   ]
  },
  {
   "cell_type": "code",
   "execution_count": 4,
   "id": "cfef3595",
   "metadata": {},
   "outputs": [],
   "source": [
    "var=34\n"
   ]
  },
  {
   "cell_type": "code",
   "execution_count": 5,
   "id": "ff4b6ffd",
   "metadata": {},
   "outputs": [
    {
     "data": {
      "text/plain": [
       "34"
      ]
     },
     "execution_count": 5,
     "metadata": {},
     "output_type": "execute_result"
    }
   ],
   "source": [
    "var"
   ]
  },
  {
   "cell_type": "code",
   "execution_count": 6,
   "id": "3c1280a0",
   "metadata": {},
   "outputs": [
    {
     "ename": "TypeError",
     "evalue": "'int' object is not subscriptable",
     "output_type": "error",
     "traceback": [
      "\u001b[1;31m---------------------------------------------------------------------------\u001b[0m",
      "\u001b[1;31mTypeError\u001b[0m                                 Traceback (most recent call last)",
      "Cell \u001b[1;32mIn[6], line 1\u001b[0m\n\u001b[1;32m----> 1\u001b[0m var[\u001b[38;5;241m0\u001b[39m]\n",
      "\u001b[1;31mTypeError\u001b[0m: 'int' object is not subscriptable"
     ]
    }
   ],
   "source": [
    "var[0]"
   ]
  },
  {
   "cell_type": "code",
   "execution_count": 7,
   "id": "87163894",
   "metadata": {},
   "outputs": [
    {
     "ename": "TypeError",
     "evalue": "'int' object is not callable",
     "output_type": "error",
     "traceback": [
      "\u001b[1;31m---------------------------------------------------------------------------\u001b[0m",
      "\u001b[1;31mTypeError\u001b[0m                                 Traceback (most recent call last)",
      "Cell \u001b[1;32mIn[7], line 1\u001b[0m\n\u001b[1;32m----> 1\u001b[0m var(\u001b[38;5;241m0\u001b[39m)\n",
      "\u001b[1;31mTypeError\u001b[0m: 'int' object is not callable"
     ]
    }
   ],
   "source": [
    "\n",
    "var(0)"
   ]
  },
  {
   "cell_type": "code",
   "execution_count": 8,
   "id": "84a9d54d",
   "metadata": {},
   "outputs": [],
   "source": [
    "var='hoa'"
   ]
  },
  {
   "cell_type": "code",
   "execution_count": 9,
   "id": "cc3ce087",
   "metadata": {},
   "outputs": [
    {
     "data": {
      "text/plain": [
       "'a'"
      ]
     },
     "execution_count": 9,
     "metadata": {},
     "output_type": "execute_result"
    }
   ],
   "source": [
    "var[2]"
   ]
  },
  {
   "cell_type": "code",
   "execution_count": 10,
   "id": "667722db",
   "metadata": {},
   "outputs": [
    {
     "data": {
      "text/plain": [
       "'o'"
      ]
     },
     "execution_count": 10,
     "metadata": {},
     "output_type": "execute_result"
    }
   ],
   "source": [
    "var[-2]"
   ]
  },
  {
   "cell_type": "code",
   "execution_count": 11,
   "id": "5326f051",
   "metadata": {},
   "outputs": [],
   "source": [
    "nom='santiago'"
   ]
  },
  {
   "cell_type": "code",
   "execution_count": 12,
   "id": "8549ecfd",
   "metadata": {},
   "outputs": [
    {
     "data": {
      "text/plain": [
       "'t'"
      ]
     },
     "execution_count": 12,
     "metadata": {},
     "output_type": "execute_result"
    }
   ],
   "source": [
    "nom[3]"
   ]
  },
  {
   "cell_type": "code",
   "execution_count": 13,
   "id": "46773cd4",
   "metadata": {},
   "outputs": [],
   "source": [
    "hola='\\nhola\\ncabron'"
   ]
  },
  {
   "cell_type": "code",
   "execution_count": 14,
   "id": "50d65a8d",
   "metadata": {},
   "outputs": [
    {
     "data": {
      "text/plain": [
       "'\\nhola\\ncabron'"
      ]
     },
     "execution_count": 14,
     "metadata": {},
     "output_type": "execute_result"
    }
   ],
   "source": [
    "hola"
   ]
  },
  {
   "cell_type": "code",
   "execution_count": 15,
   "id": "fa2d8d4f",
   "metadata": {},
   "outputs": [],
   "source": [
    "hola=\"hola cabron\\nComoestas\""
   ]
  },
  {
   "cell_type": "code",
   "execution_count": 16,
   "id": "7ca6106e",
   "metadata": {},
   "outputs": [
    {
     "data": {
      "text/plain": [
       "'hola cabron\\nComoestas'"
      ]
     },
     "execution_count": 16,
     "metadata": {},
     "output_type": "execute_result"
    }
   ],
   "source": [
    "hola"
   ]
  },
  {
   "cell_type": "code",
   "execution_count": 17,
   "id": "647d4efb",
   "metadata": {},
   "outputs": [
    {
     "data": {
      "text/plain": [
       "'hola\\nhernandez'"
      ]
     },
     "execution_count": 17,
     "metadata": {},
     "output_type": "execute_result"
    }
   ],
   "source": [
    "'hola\\nhernandez'"
   ]
  },
  {
   "cell_type": "code",
   "execution_count": null,
   "id": "898733c9",
   "metadata": {},
   "outputs": [],
   "source": []
  }
 ],
 "metadata": {
  "kernelspec": {
   "display_name": "Python 3 (ipykernel)",
   "language": "python",
   "name": "python3"
  },
  "language_info": {
   "codemirror_mode": {
    "name": "ipython",
    "version": 3
   },
   "file_extension": ".py",
   "mimetype": "text/x-python",
   "name": "python",
   "nbconvert_exporter": "python",
   "pygments_lexer": "ipython3",
   "version": "3.11.4"
  }
 },
 "nbformat": 4,
 "nbformat_minor": 5
}
