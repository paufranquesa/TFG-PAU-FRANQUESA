{
 "cells": [
  {
   "cell_type": "code",
   "execution_count": 15,
   "metadata": {},
   "outputs": [
    {
     "name": "stdout",
     "output_type": "stream",
     "text": [
      "Requirement already satisfied: kmodes in c:\\users\\paufg\\anaconda3\\lib\\site-packages (0.12.2)\n",
      "Requirement already satisfied: numpy>=1.10.4 in c:\\users\\paufg\\anaconda3\\lib\\site-packages (from kmodes) (1.24.3)\n",
      "Requirement already satisfied: scikit-learn>=0.22.0 in c:\\users\\paufg\\anaconda3\\lib\\site-packages (from kmodes) (1.3.0)\n",
      "Requirement already satisfied: scipy>=0.13.3 in c:\\users\\paufg\\anaconda3\\lib\\site-packages (from kmodes) (1.10.1)\n",
      "Requirement already satisfied: joblib>=0.11 in c:\\users\\paufg\\anaconda3\\lib\\site-packages (from kmodes) (1.2.0)\n",
      "Requirement already satisfied: threadpoolctl>=2.0.0 in c:\\users\\paufg\\anaconda3\\lib\\site-packages (from scikit-learn>=0.22.0->kmodes) (2.2.0)\n"
     ]
    }
   ],
   "source": [
    "import numpy as np\n",
    "import pandas as pd \n",
    "import os\n",
    "import matplotlib.pyplot as plt\n",
    "import seaborn as sns\n",
    "import sklearn\n",
    "from itertools import product\n",
    "!pip install kmodes"
   ]
  },
  {
   "cell_type": "code",
   "execution_count": 16,
   "metadata": {
    "scrolled": false
   },
   "outputs": [
    {
     "name": "stdout",
     "output_type": "stream",
     "text": [
      "<class 'pandas.core.frame.DataFrame'>\n",
      "RangeIndex: 17919 entries, 0 to 17918\n",
      "Data columns (total 22 columns):\n",
      " #   Column                        Non-Null Count  Dtype \n",
      "---  ------                        --------------  ----- \n",
      " 0   Unnamed: 0                    17919 non-null  int64 \n",
      " 1   File_Num                      17919 non-null  object\n",
      " 2   District                      17919 non-null  object\n",
      " 3   Neighbourhood                 17919 non-null  object\n",
      " 4   Street_name                   17919 non-null  object\n",
      " 5   Day_name                      17919 non-null  object\n",
      " 6   year                          17919 non-null  int64 \n",
      " 7   month                         17919 non-null  int64 \n",
      " 8   Month_name                    17919 non-null  object\n",
      " 9   day                           17919 non-null  int64 \n",
      " 10  Day_shift                     17919 non-null  object\n",
      " 11  hour                          17919 non-null  int64 \n",
      " 12  Pedestrian_situation          17919 non-null  object\n",
      " 13  Vehicle_type                  17919 non-null  object\n",
      " 14  Gender                        17919 non-null  object\n",
      " 15  Age                           17919 non-null  object\n",
      " 16  Person_type                   17919 non-null  object\n",
      " 17  Pedestrian_accident_location  17919 non-null  object\n",
      " 18  Pedestrian_intention          17919 non-null  object\n",
      " 19  Driver_intention              17919 non-null  object\n",
      " 20  Accident_severity             17919 non-null  object\n",
      " 21  Date                          17919 non-null  object\n",
      "dtypes: int64(5), object(17)\n",
      "memory usage: 3.0+ MB\n"
     ]
    }
   ],
   "source": [
    "persones=pd.read_csv('Accident_people_2021_2022.csv')\n",
    "persones.info()"
   ]
  },
  {
   "cell_type": "code",
   "execution_count": null,
   "metadata": {},
   "outputs": [],
   "source": []
  },
  {
   "cell_type": "code",
   "execution_count": 17,
   "metadata": {
    "scrolled": true
   },
   "outputs": [
    {
     "name": "stdout",
     "output_type": "stream",
     "text": [
      "<class 'pandas.core.frame.DataFrame'>\n",
      "RangeIndex: 35040 entries, 0 to 35039\n",
      "Data columns (total 7 columns):\n",
      " #   Column     Non-Null Count  Dtype  \n",
      "---  ------     --------------  -----  \n",
      " 0   Date       35040 non-null  object \n",
      " 1   03.TM      35040 non-null  float64\n",
      " 2   06.HRM     35040 non-null  float64\n",
      " 3   07.PPT24H  35040 non-null  float64\n",
      " 4   08.HPA     35040 non-null  float64\n",
      " 5   09.RS24H   35040 non-null  float64\n",
      " 6   10.VVM10   35040 non-null  float64\n",
      "dtypes: float64(6), object(1)\n",
      "memory usage: 1.9+ MB\n"
     ]
    }
   ],
   "source": [
    "weather=pd.read_csv('data_meteo_estudifinal_2021_2022.csv')\n",
    "weather = weather.drop(weather.columns[0], axis=1)\n",
    "weather.rename(columns={'DATA_LECTURA':'Date'},inplace=True)\n",
    "weather.info()"
   ]
  },
  {
   "cell_type": "code",
   "execution_count": 18,
   "metadata": {},
   "outputs": [
    {
     "data": {
      "text/html": [
       "<div>\n",
       "<style scoped>\n",
       "    .dataframe tbody tr th:only-of-type {\n",
       "        vertical-align: middle;\n",
       "    }\n",
       "\n",
       "    .dataframe tbody tr th {\n",
       "        vertical-align: top;\n",
       "    }\n",
       "\n",
       "    .dataframe thead th {\n",
       "        text-align: right;\n",
       "    }\n",
       "</style>\n",
       "<table border=\"1\" class=\"dataframe\">\n",
       "  <thead>\n",
       "    <tr style=\"text-align: right;\">\n",
       "      <th></th>\n",
       "      <th>Date</th>\n",
       "      <th>03.TM</th>\n",
       "      <th>06.HRM</th>\n",
       "      <th>07.PPT24H</th>\n",
       "      <th>08.HPA</th>\n",
       "      <th>09.RS24H</th>\n",
       "      <th>10.VVM10</th>\n",
       "    </tr>\n",
       "  </thead>\n",
       "  <tbody>\n",
       "    <tr>\n",
       "      <th>0</th>\n",
       "      <td>2021-01-01 00:00:00</td>\n",
       "      <td>10.1</td>\n",
       "      <td>57.0</td>\n",
       "      <td>0.0</td>\n",
       "      <td>1002.2</td>\n",
       "      <td>0.0</td>\n",
       "      <td>1.6</td>\n",
       "    </tr>\n",
       "    <tr>\n",
       "      <th>1</th>\n",
       "      <td>2021-01-01 00:30:00</td>\n",
       "      <td>9.9</td>\n",
       "      <td>59.0</td>\n",
       "      <td>0.0</td>\n",
       "      <td>1002.0</td>\n",
       "      <td>0.0</td>\n",
       "      <td>2.1</td>\n",
       "    </tr>\n",
       "    <tr>\n",
       "      <th>2</th>\n",
       "      <td>2021-01-01 01:00:00</td>\n",
       "      <td>9.6</td>\n",
       "      <td>59.0</td>\n",
       "      <td>0.0</td>\n",
       "      <td>1001.9</td>\n",
       "      <td>0.0</td>\n",
       "      <td>2.2</td>\n",
       "    </tr>\n",
       "    <tr>\n",
       "      <th>3</th>\n",
       "      <td>2021-01-01 01:30:00</td>\n",
       "      <td>9.6</td>\n",
       "      <td>59.0</td>\n",
       "      <td>0.0</td>\n",
       "      <td>1001.8</td>\n",
       "      <td>0.0</td>\n",
       "      <td>2.3</td>\n",
       "    </tr>\n",
       "    <tr>\n",
       "      <th>4</th>\n",
       "      <td>2021-01-01 02:00:00</td>\n",
       "      <td>9.6</td>\n",
       "      <td>59.0</td>\n",
       "      <td>0.0</td>\n",
       "      <td>1001.6</td>\n",
       "      <td>0.0</td>\n",
       "      <td>2.1</td>\n",
       "    </tr>\n",
       "  </tbody>\n",
       "</table>\n",
       "</div>"
      ],
      "text/plain": [
       "                  Date  03.TM  06.HRM  07.PPT24H  08.HPA  09.RS24H  10.VVM10\n",
       "0  2021-01-01 00:00:00   10.1    57.0        0.0  1002.2       0.0       1.6\n",
       "1  2021-01-01 00:30:00    9.9    59.0        0.0  1002.0       0.0       2.1\n",
       "2  2021-01-01 01:00:00    9.6    59.0        0.0  1001.9       0.0       2.2\n",
       "3  2021-01-01 01:30:00    9.6    59.0        0.0  1001.8       0.0       2.3\n",
       "4  2021-01-01 02:00:00    9.6    59.0        0.0  1001.6       0.0       2.1"
      ]
     },
     "execution_count": 18,
     "metadata": {},
     "output_type": "execute_result"
    }
   ],
   "source": [
    "weather.head()"
   ]
  },
  {
   "cell_type": "code",
   "execution_count": 19,
   "metadata": {},
   "outputs": [
    {
     "name": "stdout",
     "output_type": "stream",
     "text": [
      "<class 'pandas.core.frame.DataFrame'>\n",
      "Int64Index: 17919 entries, 0 to 17918\n",
      "Data columns (total 8 columns):\n",
      " #   Column        Non-Null Count  Dtype  \n",
      "---  ------        --------------  -----  \n",
      " 0   Day_shift     17919 non-null  object \n",
      " 1   Vehicle_type  17919 non-null  object \n",
      " 2   Gender        17919 non-null  object \n",
      " 3   Age           17919 non-null  object \n",
      " 4   Date          17919 non-null  object \n",
      " 5   03.TM         17919 non-null  float64\n",
      " 6   06.HRM        17919 non-null  float64\n",
      " 7   10.VVM10      17919 non-null  float64\n",
      "dtypes: float64(3), object(5)\n",
      "memory usage: 1.2+ MB\n"
     ]
    }
   ],
   "source": [
    "#FROM ALL THE DATA WE ARE JUST GOING TO FOCUS N¡ON THE DRIVERS BECAUSE\n",
    "#THE PASSANGER OR THE PEDESTRIAN DOESN0T HAVE ANY KIND OF POWER TO NOT BE IN THE SITUATION OR HAVE ANY CONTROL\n",
    "\n",
    "persones=persones[['Day_shift','Vehicle_type','Gender','Age','Date']]\n",
    "weather=weather[['Date','03.TM','06.HRM','10.VVM10']]\n",
    "\n",
    "#JOIN THE DATASETS WITH THE VARIABLE DATE\n",
    "variables = pd.merge(persones, weather, on='Date', how='left')\n",
    "variables.info()\n"
   ]
  },
  {
   "cell_type": "code",
   "execution_count": 20,
   "metadata": {},
   "outputs": [
    {
     "data": {
      "text/html": [
       "<div>\n",
       "<style scoped>\n",
       "    .dataframe tbody tr th:only-of-type {\n",
       "        vertical-align: middle;\n",
       "    }\n",
       "\n",
       "    .dataframe tbody tr th {\n",
       "        vertical-align: top;\n",
       "    }\n",
       "\n",
       "    .dataframe thead th {\n",
       "        text-align: right;\n",
       "    }\n",
       "</style>\n",
       "<table border=\"1\" class=\"dataframe\">\n",
       "  <thead>\n",
       "    <tr style=\"text-align: right;\">\n",
       "      <th></th>\n",
       "      <th>Day_shift</th>\n",
       "      <th>Vehicle_type</th>\n",
       "      <th>Gender</th>\n",
       "      <th>Age</th>\n",
       "      <th>Date</th>\n",
       "      <th>03.TM</th>\n",
       "      <th>06.HRM</th>\n",
       "      <th>10.VVM10</th>\n",
       "      <th>Quarter</th>\n",
       "    </tr>\n",
       "  </thead>\n",
       "  <tbody>\n",
       "    <tr>\n",
       "      <th>0</th>\n",
       "      <td>Afternoon</td>\n",
       "      <td>Vehicle without motor</td>\n",
       "      <td>Women</td>\n",
       "      <td>8</td>\n",
       "      <td>2021-04-13 20:00:00</td>\n",
       "      <td>13.8</td>\n",
       "      <td>78.0</td>\n",
       "      <td>0.8</td>\n",
       "      <td>2</td>\n",
       "    </tr>\n",
       "    <tr>\n",
       "      <th>1</th>\n",
       "      <td>Morning</td>\n",
       "      <td>Other</td>\n",
       "      <td>Men</td>\n",
       "      <td>58</td>\n",
       "      <td>2021-03-12 12:00:00</td>\n",
       "      <td>13.0</td>\n",
       "      <td>41.0</td>\n",
       "      <td>2.8</td>\n",
       "      <td>1</td>\n",
       "    </tr>\n",
       "    <tr>\n",
       "      <th>2</th>\n",
       "      <td>Afternoon</td>\n",
       "      <td>Other</td>\n",
       "      <td>Women</td>\n",
       "      <td>52</td>\n",
       "      <td>2021-10-11 19:00:00</td>\n",
       "      <td>14.9</td>\n",
       "      <td>75.0</td>\n",
       "      <td>2.7</td>\n",
       "      <td>4</td>\n",
       "    </tr>\n",
       "    <tr>\n",
       "      <th>3</th>\n",
       "      <td>Afternoon</td>\n",
       "      <td>Vehicle without motor</td>\n",
       "      <td>Men</td>\n",
       "      <td>47</td>\n",
       "      <td>2021-02-06 15:00:00</td>\n",
       "      <td>22.0</td>\n",
       "      <td>77.0</td>\n",
       "      <td>3.3</td>\n",
       "      <td>1</td>\n",
       "    </tr>\n",
       "    <tr>\n",
       "      <th>4</th>\n",
       "      <td>Afternoon</td>\n",
       "      <td>Other</td>\n",
       "      <td>Men</td>\n",
       "      <td>4</td>\n",
       "      <td>2021-09-12 17:00:00</td>\n",
       "      <td>10.8</td>\n",
       "      <td>53.0</td>\n",
       "      <td>0.9</td>\n",
       "      <td>3</td>\n",
       "    </tr>\n",
       "  </tbody>\n",
       "</table>\n",
       "</div>"
      ],
      "text/plain": [
       "   Day_shift           Vehicle_type Gender Age                 Date  03.TM  \\\n",
       "0  Afternoon  Vehicle without motor  Women   8  2021-04-13 20:00:00   13.8   \n",
       "1    Morning                  Other    Men  58  2021-03-12 12:00:00   13.0   \n",
       "2  Afternoon                  Other  Women  52  2021-10-11 19:00:00   14.9   \n",
       "3  Afternoon  Vehicle without motor    Men  47  2021-02-06 15:00:00   22.0   \n",
       "4  Afternoon                  Other    Men   4  2021-09-12 17:00:00   10.8   \n",
       "\n",
       "   06.HRM  10.VVM10  Quarter  \n",
       "0    78.0       0.8        2  \n",
       "1    41.0       2.8        1  \n",
       "2    75.0       2.7        4  \n",
       "3    77.0       3.3        1  \n",
       "4    53.0       0.9        3  "
      ]
     },
     "execution_count": 20,
     "metadata": {},
     "output_type": "execute_result"
    }
   ],
   "source": [
    "#add variable quarter and start studying the different variables\n",
    "variables['Quarter'] = variables['Date'].apply(lambda x: pd.Timestamp(x).quarter)\n",
    "variables.head()"
   ]
  },
  {
   "cell_type": "code",
   "execution_count": 21,
   "metadata": {},
   "outputs": [
    {
     "name": "stdout",
     "output_type": "stream",
     "text": [
      "['16-25' '+56' '46-55' '26-35' '36-45' 'Age not known']\n",
      "26-35            25.771527\n",
      "16-25            20.620570\n",
      "36-45            19.917406\n",
      "+56              17.489815\n",
      "46-55            16.111390\n",
      "Age not known     0.089291\n",
      "Name: Age, dtype: float64\n"
     ]
    }
   ],
   "source": [
    "# LETS TRANSFORM TO CATHEGORIC THE COLUMN EDAT\n",
    "#/// desconegut(404) -->NOT KNOWN\n",
    "#transform value desconegut a 404\n",
    "variables['Age'] = variables['Age'].replace('Desconegut', '404')\n",
    "def categorize_age(age):\n",
    "    if int(age) <= 25:\n",
    "        return '16-25'\n",
    "    elif int(age) <= 35 and int(age) > 25:\n",
    "        return '26-35'\n",
    "    elif int(age) <= 45 and int(age) > 35:\n",
    "        return '36-45'\n",
    "    elif int(age) <= 55 and int(age) > 45:\n",
    "        return '46-55'\n",
    "    elif age == '404':\n",
    "        return 'Age not known'\n",
    "    else:\n",
    "        return '+56'\n",
    "\n",
    "# Apply function to transform ages to categories\n",
    "variables['Age'] = variables['Age'].apply(categorize_age)\n",
    "\n",
    "x=variables['Age'].unique()\n",
    "print(x)\n",
    "\n",
    "# count the frequency of each value in column 'a'\n",
    "value_counts = variables['Age'].value_counts()\n",
    "\n",
    "# calculate the percentage of times each value appears\n",
    "percentage = (value_counts / len(variables)) * 100\n",
    "print(percentage)"
   ]
  },
  {
   "cell_type": "code",
   "execution_count": 22,
   "metadata": {},
   "outputs": [
    {
     "name": "stdout",
     "output_type": "stream",
     "text": [
      "['Very low' 'Low' 'Mild' 'Hot']\n",
      "Mild        30.397902\n",
      "Very low    24.750265\n",
      "Hot         23.405324\n",
      "Low         21.446509\n",
      "Name: 03.TM, dtype: float64\n"
     ]
    }
   ],
   "source": [
    "#x=variables['03.TM'].unique()\n",
    "# print(np.sort(x)) the data goes from 3.8 to 34.2\n",
    "def cat_temp(temp):\n",
    "    if int(temp) <= 13:\n",
    "        return 'Very low'\n",
    "    elif int(temp) <= 17 and int(temp) > 13:\n",
    "        return 'Low'\n",
    "    elif int(temp) <= 24 and int(temp) > 17:\n",
    "        return 'Mild'\n",
    "    else:\n",
    "        return 'Hot'\n",
    "variables['03.TM'] = variables['03.TM'].apply(cat_temp)\n",
    "\n",
    "x=variables['03.TM'].unique()\n",
    "print(x)\n",
    "\n",
    "# count the frequency of each value in column 'a'\n",
    "value_counts = variables['03.TM'].value_counts()\n",
    "\n",
    "# calculate the percentage of times each value appears\n",
    "percentage = (value_counts / len(variables)) * 100\n",
    "print(percentage)"
   ]
  },
  {
   "cell_type": "code",
   "execution_count": 23,
   "metadata": {},
   "outputs": [
    {
     "name": "stdout",
     "output_type": "stream",
     "text": [
      "['Very high' 'Low humidity' 'High humidity' 'Moderate humidity']\n",
      "High humidity        39.092583\n",
      "Moderate humidity    25.514817\n",
      "Low humidity         18.907305\n",
      "Very high            16.485295\n",
      "Name: 06.HRM, dtype: float64\n"
     ]
    }
   ],
   "source": [
    "#x=variables['06.HRM'].unique()\n",
    "#print(np.sort(x)) from 9 percent to 100 percent\n",
    "def cat_humidity(hum):\n",
    "    if int(hum) <= 48:\n",
    "        return 'Low humidity'\n",
    "    elif int(hum) <= 60 and int(hum) > 48:\n",
    "        return 'Moderate humidity'\n",
    "    elif int(hum) <= 75 and int(hum) > 60:\n",
    "        return 'High humidity'\n",
    "    else:\n",
    "        return 'Very high'\n",
    "variables['06.HRM'] = variables['06.HRM'].apply(cat_humidity)\n",
    "\n",
    "x=variables['06.HRM'].unique()\n",
    "print(x)\n",
    "\n",
    "# count the frequency of each value in column 'a'\n",
    "value_counts = variables['06.HRM'].value_counts()\n",
    "\n",
    "# calculate the percentage of times each value appears\n",
    "percentage = (value_counts / len(variables)) * 100\n",
    "print(percentage)"
   ]
  },
  {
   "cell_type": "code",
   "execution_count": 24,
   "metadata": {},
   "outputs": [
    {
     "name": "stdout",
     "output_type": "stream",
     "text": [
      "['Low speed' 'Moderate speed' 'High speed']\n",
      "Low speed         43.211117\n",
      "Moderate speed    30.157933\n",
      "High speed        26.630950\n",
      "Name: 10.VVM10, dtype: float64\n"
     ]
    }
   ],
   "source": [
    "#x=variables['10.VVM10'].unique()\n",
    "#print(np.sort(x)) from 0 to 8.7\n",
    "def cat_wind(wind):\n",
    "    if int(wind) <= 1:\n",
    "        return 'Low speed'\n",
    "    elif int(wind) <= 2 and int(wind) > 1:\n",
    "        return 'Moderate speed'\n",
    "    else:\n",
    "        return 'High speed'\n",
    "    \n",
    "variables['10.VVM10'] = variables['10.VVM10'].apply(cat_wind)\n",
    "\n",
    "x=variables['10.VVM10'].unique()\n",
    "print(x)\n",
    "\n",
    "# count the frequency of each value in column 'a'\n",
    "value_counts = variables['10.VVM10'].value_counts()\n",
    "\n",
    "# calculate the percentage of times each value appears\n",
    "percentage = (value_counts / len(variables)) * 100\n",
    "print(percentage)"
   ]
  },
  {
   "cell_type": "code",
   "execution_count": 25,
   "metadata": {},
   "outputs": [
    {
     "name": "stdout",
     "output_type": "stream",
     "text": [
      "['Day_shift', 'Vehicle_type', 'Gender', 'Age', 'Date', '03.TM', '06.HRM', '10.VVM10', 'Quarter']\n"
     ]
    }
   ],
   "source": [
    "column_names = variables.columns.tolist()\n",
    "print(column_names)\n",
    "categorical=column_names"
   ]
  },
  {
   "cell_type": "code",
   "execution_count": 26,
   "metadata": {},
   "outputs": [
    {
     "data": {
      "text/plain": [
       "('Day_shift',\n",
       " 'Vehicle_type',\n",
       " 'Gender',\n",
       " 'Age',\n",
       " 'Date',\n",
       " '03.TM',\n",
       " '06.HRM',\n",
       " '10.VVM10',\n",
       " 'Quarter')"
      ]
     },
     "execution_count": 26,
     "metadata": {},
     "output_type": "execute_result"
    }
   ],
   "source": [
    "tuple(categorical)"
   ]
  },
  {
   "cell_type": "code",
   "execution_count": 27,
   "metadata": {},
   "outputs": [
    {
     "name": "stdout",
     "output_type": "stream",
     "text": [
      "       Day_shift Vehicle_type Gender    Age                 Date     03.TM  \\\n",
      "13981    Morning        Other  Women    +56  2022-12-22 11:00:00       Low   \n",
      "13110    Morning        Other    Men    +56  2022-05-10 11:00:00      Mild   \n",
      "263    Afternoon          Car    Men  16-25  2022-04-02 17:00:00  Very low   \n",
      "13028    Morning        Other    Men    +56  2021-06-05 11:00:00      Mild   \n",
      "9059     Morning          Car    Men  36-45  2022-06-10 08:00:00      Mild   \n",
      "3128   Afternoon   Motorcycle    Men  26-35  2022-06-08 18:00:00       Hot   \n",
      "13802    Morning        Other  Women    +56  2021-10-27 13:00:00      Mild   \n",
      "13760    Morning        Other  Women    +56  2021-07-14 13:00:00      Mild   \n",
      "15136      Night          Car    Men  46-55  2022-10-16 02:00:00      Mild   \n",
      "10964    Morning   Motorcycle    Men  26-35  2022-12-21 08:00:00  Very low   \n",
      "\n",
      "                  06.HRM        10.VVM10  Quarter  count  \n",
      "13981  Moderate humidity       Low speed        4      6  \n",
      "13110      High humidity  Moderate speed        2      6  \n",
      "263            Very high       Low speed        2      5  \n",
      "13028  Moderate humidity      High speed        2      5  \n",
      "9059       High humidity       Low speed        2      4  \n",
      "3128   Moderate humidity  Moderate speed        2      4  \n",
      "13802  Moderate humidity  Moderate speed        4      4  \n",
      "13760  Moderate humidity      High speed        3      4  \n",
      "15136          Very high       Low speed        4      4  \n",
      "10964      High humidity  Moderate speed        4      4  \n"
     ]
    }
   ],
   "source": [
    "import pandas as pd\n",
    "\n",
    "# Load the dataset into a Pandas DataFrame\n",
    "df = variables\n",
    "\n",
    "# Count the number of occurrences of each unique combination of values\n",
    "counts = df.groupby(categorical).size().reset_index(name='count')\n",
    "\n",
    "# Get the top 10 combinations of values that are the most repeated in the dataset\n",
    "top_counts = counts.sort_values('count', ascending=False).head(10)\n",
    "\n",
    "# Print the top 10 combinations of values\n",
    "print(top_counts)"
   ]
  },
  {
   "cell_type": "code",
   "execution_count": 28,
   "metadata": {},
   "outputs": [
    {
     "name": "stdout",
     "output_type": "stream",
     "text": [
      "    Day_shift Vehicle_type Gender  count  percentage %\n",
      "3   Afternoon   Motorcycle    Men   3300     18.416206\n",
      "12    Morning   Motorcycle    Men   2276     12.701602\n",
      "-----------------------------------------------------\n",
      "   Day_shift Vehicle_type         06.HRM  count  percentage %\n",
      "4  Afternoon   Motorcycle  High humidity   1976     11.027401\n",
      "-----------------------------------------------------\n",
      "   Day_shift Vehicle_type   10.VVM10  count  percentage %\n",
      "4  Afternoon   Motorcycle  Low speed   1933     10.787432\n",
      "-----------------------------------------------------\n",
      "   Day_shift Gender         06.HRM  count  percentage %\n",
      "0  Afternoon    Men  High humidity   2175     12.137954\n",
      "-----------------------------------------------------\n",
      "   Day_shift Gender   10.VVM10  count  percentage %\n",
      "1  Afternoon    Men  Low speed   2104     11.741727\n",
      "-----------------------------------------------------\n",
      "   Vehicle_type Gender    Age  count  percentage %\n",
      "15   Motorcycle    Men  26-35   1803     10.061945\n",
      "-----------------------------------------------------\n",
      "   Vehicle_type Gender 03.TM  count  percentage %\n",
      "11   Motorcycle    Men  Mild   1879     10.486076\n",
      "-----------------------------------------------------\n",
      "  Vehicle_type Gender         06.HRM  count  percentage %\n",
      "9   Motorcycle    Men  High humidity   2424     13.527541\n",
      "-----------------------------------------------------\n",
      "  Vehicle_type Gender        10.VVM10  count  percentage %\n",
      "8   Motorcycle    Men       Low speed   2698     15.056644\n",
      "9   Motorcycle    Men  Moderate speed   1906     10.636754\n",
      "-----------------------------------------------------\n",
      "  Gender         06.HRM   10.VVM10  count  percentage %\n",
      "1    Men  High humidity  Low speed   1860     10.380044\n",
      "-----------------------------------------------------\n"
     ]
    }
   ],
   "source": [
    "import pandas as pd\n",
    "import itertools \n",
    "\n",
    "#Create a list of diferent combinations of 3 variables of the given variables in categorical\n",
    "combinations = list(itertools.combinations(categorical, 3))\n",
    "\n",
    "# Load the dataset into a Pandas DataFrame\n",
    "df = variables\n",
    "\n",
    "#Create a dictonary that has the results for each combination of variables\n",
    "\n",
    "dic={}\n",
    "\n",
    "# Count the number of occurrences of each unique combination of values\n",
    "for combination in combinations:\n",
    "    counts = df.groupby(list(combination)).size().reset_index(name='count')\n",
    "    counts['percentage %'] = counts['count'] / df.shape[0] * 100\n",
    "\n",
    "    # Get the top 10 combinations of values that are the most repeated in the dataset\n",
    "    top_counts = counts.sort_values('count', ascending=False).head(10)\n",
    "    dic[tuple(combination)]=counts.sort_values('count', ascending=False)\n",
    "dic3=dic\n",
    "# It gives the combinations of values that are freqüent in more that 10 percent of all the accidents.\n",
    "for key, value in dic.items():\n",
    "    condition = value.iloc[:, -1] > 10\n",
    "    result = value[condition]\n",
    "    \n",
    "    if not result.empty:\n",
    "        print(result)\n",
    "        print('-----------------------------------------------------')"
   ]
  },
  {
   "cell_type": "code",
   "execution_count": 29,
   "metadata": {},
   "outputs": [
    {
     "name": "stdout",
     "output_type": "stream",
     "text": [
      "    Day_shift Vehicle_type Gender    Age  count  percentage %\n",
      "14  Afternoon   Motorcycle    Men  26-35    969      5.407668\n",
      "-----------------------------------------------------\n",
      "    Day_shift Vehicle_type Gender 03.TM  count  percentage %\n",
      "11  Afternoon   Motorcycle    Men  Mild    992      5.536023\n",
      "-----------------------------------------------------\n",
      "   Day_shift Vehicle_type Gender         06.HRM  count  percentage %\n",
      "9  Afternoon   Motorcycle    Men  High humidity   1296      7.232546\n",
      "-----------------------------------------------------\n",
      "   Day_shift Vehicle_type Gender        10.VVM10  count  percentage %\n",
      "8  Afternoon   Motorcycle    Men       Low speed   1243      6.936771\n",
      "9  Afternoon   Motorcycle    Men  Moderate speed   1094      6.105251\n",
      "7  Afternoon   Motorcycle    Men      High speed    963      5.374184\n",
      "-----------------------------------------------------\n",
      "    Day_shift Vehicle_type Gender  Quarter  count  percentage %\n",
      "10  Afternoon   Motorcycle    Men        2    909      5.072828\n",
      "-----------------------------------------------------\n",
      "   Vehicle_type Gender     03.TM   10.VVM10  count  percentage %\n",
      "35   Motorcycle    Men  Very low  Low speed    950      5.301635\n",
      "-----------------------------------------------------\n",
      "   Vehicle_type Gender         06.HRM   10.VVM10  count  percentage %\n",
      "26   Motorcycle    Men  High humidity  Low speed   1086      6.060606\n",
      "-----------------------------------------------------\n",
      "   Vehicle_type Gender   10.VVM10  Quarter  count  percentage %\n",
      "32   Motorcycle    Men  Low speed        4    964      5.379764\n",
      "-----------------------------------------------------\n"
     ]
    }
   ],
   "source": [
    "import pandas as pd\n",
    "import itertools \n",
    "\n",
    "#Create a list of diferent combinations of 4 variables of the given variables in categorical\n",
    "combinations = list(itertools.combinations(categorical, 4))\n",
    "\n",
    "# Load the dataset into a Pandas DataFrame\n",
    "df = variables\n",
    "\n",
    "#Create a dictonary of the top 10 counts for each combination\n",
    "\n",
    "dic={}\n",
    "\n",
    "# Count the number of occurrences of each unique combination of values\n",
    "for combination in combinations:\n",
    "    counts = df.groupby(list(combination)).size().reset_index(name='count')\n",
    "    counts['percentage %'] = counts['count'] / df.shape[0] * 100\n",
    "\n",
    "    # Get the top 10 combinations of values that are the most repeated in the dataset\n",
    "    top_counts = counts.sort_values('count', ascending=False).head(10)\n",
    "    dic[tuple(combination)]=counts.sort_values('count', ascending=False)\n",
    "dic4=dic \n",
    "# It gives the combinations of 4 values that are freqüent in more that 5 percent of all the accidents.\n",
    "for key, value in dic.items():\n",
    "    condition = value.iloc[:, -1] > 5\n",
    "    result = value[condition]\n",
    "    \n",
    "    if not result.empty:\n",
    "        print(result)\n",
    "        print('-----------------------------------------------------')"
   ]
  },
  {
   "cell_type": "code",
   "execution_count": 30,
   "metadata": {},
   "outputs": [
    {
     "name": "stdout",
     "output_type": "stream",
     "text": [
      "    Day_shift Vehicle_type Gender    Age         06.HRM  count  percentage %\n",
      "51  Afternoon   Motorcycle    Men  26-35  High humidity    379      2.115073\n",
      "-----------------------------------------------------\n",
      "    Day_shift Vehicle_type Gender    Age   10.VVM10  count  percentage %\n",
      "40  Afternoon   Motorcycle    Men  26-35  Low speed    383      2.137396\n",
      "-----------------------------------------------------\n",
      "    Day_shift Vehicle_type Gender 03.TM         06.HRM  count  percentage %\n",
      "41  Afternoon   Motorcycle    Men  Mild  High humidity    401      2.237848\n",
      "-----------------------------------------------------\n",
      "    Day_shift Vehicle_type Gender     03.TM   10.VVM10  count  percentage %\n",
      "35  Afternoon   Motorcycle    Men  Very low  Low speed    440      2.455494\n",
      "32  Afternoon   Motorcycle    Men      Mild  Low speed    363      2.025783\n",
      "-----------------------------------------------------\n",
      "    Day_shift Vehicle_type Gender     03.TM  Quarter  count  percentage %\n",
      "35  Afternoon   Motorcycle    Men       Hot        3    412      2.299235\n",
      "45  Afternoon   Motorcycle    Men  Very low        1    363      2.025783\n",
      "-----------------------------------------------------\n",
      "    Day_shift Vehicle_type Gender         06.HRM        10.VVM10  count  \\\n",
      "26  Afternoon   Motorcycle    Men  High humidity       Low speed    529   \n",
      "27  Afternoon   Motorcycle    Men  High humidity  Moderate speed    468   \n",
      "\n",
      "    percentage %  \n",
      "26      2.952174  \n",
      "27      2.611753  \n",
      "-----------------------------------------------------\n",
      "    Day_shift Vehicle_type Gender   10.VVM10  Quarter  count  percentage %\n",
      "32  Afternoon   Motorcycle    Men  Low speed        4    470      2.622914\n",
      "-----------------------------------------------------\n",
      "    Vehicle_type Gender     03.TM   10.VVM10  Quarter  count  percentage %\n",
      "137   Motorcycle    Men  Very low  Low speed        1    412      2.299235\n",
      "-----------------------------------------------------\n",
      "    Vehicle_type Gender         06.HRM   10.VVM10  Quarter  count  \\\n",
      "104   Motorcycle    Men  High humidity  Low speed        4    425   \n",
      "\n",
      "     percentage %  \n",
      "104      2.371784  \n",
      "-----------------------------------------------------\n"
     ]
    }
   ],
   "source": [
    "import pandas as pd\n",
    "import itertools \n",
    "\n",
    "#Create a list of diferent combinations of 5 variables of the given variables in categorical\n",
    "combinations = list(itertools.combinations(categorical, 5))\n",
    "\n",
    "# Load the dataset into a Pandas DataFrame\n",
    "df = variables\n",
    "\n",
    "#Create a dictonary of the top 10 counts for each combination\n",
    "\n",
    "dic={}\n",
    "\n",
    "# Count the number of occurrences of each unique combination of values\n",
    "for combination in combinations:\n",
    "    counts = df.groupby(list(combination)).size().reset_index(name='count')\n",
    "    counts['percentage %'] = counts['count'] / df.shape[0] * 100\n",
    "\n",
    "    # Get the top 10 combinations of values that are the most repeated in the dataset\n",
    "    top_counts = counts.sort_values('count', ascending=False).head(10)\n",
    "    dic[tuple(combination)]=counts.sort_values('count', ascending=False)\n",
    "dic5=dic    \n",
    "# It gives the combinations of 5 values that are freqüent in more that 2 percent of all the accidents.\n",
    "for key, value in dic.items():\n",
    "    condition = value.iloc[:, -1] > 2\n",
    "    result = value[condition]\n",
    "    \n",
    "    if not result.empty:\n",
    "        print(result)\n",
    "        print('-----------------------------------------------------')"
   ]
  },
  {
   "cell_type": "code",
   "execution_count": 31,
   "metadata": {},
   "outputs": [
    {
     "name": "stdout",
     "output_type": "stream",
     "text": [
      "     Day_shift Vehicle_type Gender 03.TM         06.HRM  Quarter  count  \\\n",
      "128  Afternoon   Motorcycle    Men   Hot  High humidity        3    191   \n",
      "\n",
      "     percentage %  \n",
      "128      1.065908  \n",
      "-----------------------------------------------------\n",
      "     Day_shift Vehicle_type Gender         06.HRM   10.VVM10  Quarter  count  \\\n",
      "104  Afternoon   Motorcycle    Men  High humidity  Low speed        4    207   \n",
      "\n",
      "     percentage %  \n",
      "104      1.155198  \n",
      "-----------------------------------------------------\n"
     ]
    }
   ],
   "source": [
    "import pandas as pd\n",
    "import itertools \n",
    "\n",
    "#Create a list of diferent combinations of 6 variables of the given variables in categorical\n",
    "combinations = list(itertools.combinations(categorical, 6))\n",
    "\n",
    "# Load the dataset into a Pandas DataFrame\n",
    "df = variables\n",
    "\n",
    "#Create a dictonary of the top 10 counts for each combination\n",
    "\n",
    "dic={}\n",
    "\n",
    "# Count the number of occurrences of each unique combination of values\n",
    "for combination in combinations:\n",
    "    counts = df.groupby(list(combination)).size().reset_index(name='count')\n",
    "    counts['percentage %'] = counts['count'] / df.shape[0] * 100\n",
    "\n",
    "    # Get the top 10 combinations of values that are the most repeated in the dataset\n",
    "    top_counts = counts.sort_values('count', ascending=False).head(10)\n",
    "    dic[tuple(combination)]=counts.sort_values('count', ascending=False)\n",
    "dic6=dic   \n",
    "# It gives the combinations of 6 values that are freqüent in more that 1 percent of all the accidents.\n",
    "for key, value in dic.items():\n",
    "    condition = value.iloc[:, -1] > 1\n",
    "    result = value[condition]\n",
    "    \n",
    "    if not result.empty:\n",
    "        print(result)\n",
    "        print('-----------------------------------------------------')"
   ]
  },
  {
   "cell_type": "code",
   "execution_count": 32,
   "metadata": {},
   "outputs": [
    {
     "name": "stdout",
     "output_type": "stream",
     "text": [
      "[('Day_shift', 'Vehicle_type', 'Gender'), ('Day_shift', 'Vehicle_type', 'Age'), ('Day_shift', 'Vehicle_type', 'Date'), ('Day_shift', 'Vehicle_type', '03.TM'), ('Day_shift', 'Vehicle_type', '06.HRM'), ('Day_shift', 'Vehicle_type', '10.VVM10'), ('Day_shift', 'Vehicle_type', 'Quarter'), ('Day_shift', 'Gender', 'Age'), ('Day_shift', 'Gender', 'Date'), ('Day_shift', 'Gender', '03.TM'), ('Day_shift', 'Gender', '06.HRM'), ('Day_shift', 'Gender', '10.VVM10'), ('Day_shift', 'Gender', 'Quarter'), ('Day_shift', 'Age', 'Date'), ('Day_shift', 'Age', '03.TM'), ('Day_shift', 'Age', '06.HRM'), ('Day_shift', 'Age', '10.VVM10'), ('Day_shift', 'Age', 'Quarter'), ('Day_shift', 'Date', '03.TM'), ('Day_shift', 'Date', '06.HRM'), ('Day_shift', 'Date', '10.VVM10'), ('Day_shift', 'Date', 'Quarter'), ('Day_shift', '03.TM', '06.HRM'), ('Day_shift', '03.TM', '10.VVM10'), ('Day_shift', '03.TM', 'Quarter'), ('Day_shift', '06.HRM', '10.VVM10'), ('Day_shift', '06.HRM', 'Quarter'), ('Day_shift', '10.VVM10', 'Quarter'), ('Vehicle_type', 'Gender', 'Age'), ('Vehicle_type', 'Gender', 'Date'), ('Vehicle_type', 'Gender', '03.TM'), ('Vehicle_type', 'Gender', '06.HRM'), ('Vehicle_type', 'Gender', '10.VVM10'), ('Vehicle_type', 'Gender', 'Quarter'), ('Vehicle_type', 'Age', 'Date'), ('Vehicle_type', 'Age', '03.TM'), ('Vehicle_type', 'Age', '06.HRM'), ('Vehicle_type', 'Age', '10.VVM10'), ('Vehicle_type', 'Age', 'Quarter'), ('Vehicle_type', 'Date', '03.TM'), ('Vehicle_type', 'Date', '06.HRM'), ('Vehicle_type', 'Date', '10.VVM10'), ('Vehicle_type', 'Date', 'Quarter'), ('Vehicle_type', '03.TM', '06.HRM'), ('Vehicle_type', '03.TM', '10.VVM10'), ('Vehicle_type', '03.TM', 'Quarter'), ('Vehicle_type', '06.HRM', '10.VVM10'), ('Vehicle_type', '06.HRM', 'Quarter'), ('Vehicle_type', '10.VVM10', 'Quarter'), ('Gender', 'Age', 'Date'), ('Gender', 'Age', '03.TM'), ('Gender', 'Age', '06.HRM'), ('Gender', 'Age', '10.VVM10'), ('Gender', 'Age', 'Quarter'), ('Gender', 'Date', '03.TM'), ('Gender', 'Date', '06.HRM'), ('Gender', 'Date', '10.VVM10'), ('Gender', 'Date', 'Quarter'), ('Gender', '03.TM', '06.HRM'), ('Gender', '03.TM', '10.VVM10'), ('Gender', '03.TM', 'Quarter'), ('Gender', '06.HRM', '10.VVM10'), ('Gender', '06.HRM', 'Quarter'), ('Gender', '10.VVM10', 'Quarter'), ('Age', 'Date', '03.TM'), ('Age', 'Date', '06.HRM'), ('Age', 'Date', '10.VVM10'), ('Age', 'Date', 'Quarter'), ('Age', '03.TM', '06.HRM'), ('Age', '03.TM', '10.VVM10'), ('Age', '03.TM', 'Quarter'), ('Age', '06.HRM', '10.VVM10'), ('Age', '06.HRM', 'Quarter'), ('Age', '10.VVM10', 'Quarter'), ('Date', '03.TM', '06.HRM'), ('Date', '03.TM', '10.VVM10'), ('Date', '03.TM', 'Quarter'), ('Date', '06.HRM', '10.VVM10'), ('Date', '06.HRM', 'Quarter'), ('Date', '10.VVM10', 'Quarter'), ('03.TM', '06.HRM', '10.VVM10'), ('03.TM', '06.HRM', 'Quarter'), ('03.TM', '10.VVM10', 'Quarter'), ('06.HRM', '10.VVM10', 'Quarter')]\n"
     ]
    }
   ],
   "source": [
    "combinations = list(itertools.combinations(categorical, 3))\n",
    "print(combinations)"
   ]
  }
 ],
 "metadata": {
  "kernelspec": {
   "display_name": "Python 3 (ipykernel)",
   "language": "python",
   "name": "python3"
  },
  "language_info": {
   "codemirror_mode": {
    "name": "ipython",
    "version": 3
   },
   "file_extension": ".py",
   "mimetype": "text/x-python",
   "name": "python",
   "nbconvert_exporter": "python",
   "pygments_lexer": "ipython3",
   "version": "3.11.4"
  },
  "vscode": {
   "interpreter": {
    "hash": "ddbab500cb11211a745680fd9d1a021ebe387ff4c58205a0c57203e83576c9f4"
   }
  }
 },
 "nbformat": 4,
 "nbformat_minor": 2
}
